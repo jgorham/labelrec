{
 "cells": [
  {
   "cell_type": "markdown",
   "id": "e059c495-612e-44dc-95b9-d5f7a2e5e5c9",
   "metadata": {},
   "source": [
    "## Load Embeddings"
   ]
  },
  {
   "cell_type": "code",
   "execution_count": 1,
   "id": "67881587-5af0-4641-b6f0-43dfb504f675",
   "metadata": {},
   "outputs": [],
   "source": [
    "%load_ext autoreload\n",
    "%autoreload 2"
   ]
  },
  {
   "cell_type": "code",
   "execution_count": 2,
   "id": "a2b01962-2113-4cac-89f5-1d0edb391ced",
   "metadata": {},
   "outputs": [],
   "source": [
    "import json\n",
    "\n",
    "import matplotlib.pyplot as plt\n",
    "import numpy as np\n",
    "import pandas as pd\n",
    "import torch"
   ]
  },
  {
   "cell_type": "code",
   "execution_count": 3,
   "id": "300fcd24-db9f-4661-ac0b-bc5b3d5f557a",
   "metadata": {},
   "outputs": [],
   "source": [
    "MODEL_DIR = '/Users/jax/code/labelrec/output/model_bceloss_labelart_negsamp=5_n=10'\n",
    "LABEL_FILE = '/Users/jax/code/labelrec/data/csv/label.csv'\n",
    "ARTIST_FILE = '/Users/jax/code/labelrec/data/csv/release_artist.csv'"
   ]
  },
  {
   "cell_type": "code",
   "execution_count": 4,
   "id": "68710402-8f34-4829-9a82-f81a91e59fe0",
   "metadata": {},
   "outputs": [],
   "source": [
    "state_dict = torch.load(f'{MODEL_DIR}/embedding.model')"
   ]
  },
  {
   "cell_type": "code",
   "execution_count": 5,
   "id": "7b0eab76-af69-4e10-a09f-dabae681415f",
   "metadata": {},
   "outputs": [],
   "source": [
    "art_emb, lab_emb = state_dict['art_embed.weight'].numpy(), state_dict['lab_embed.weight'].numpy()"
   ]
  },
  {
   "cell_type": "code",
   "execution_count": 6,
   "id": "0d173a32-cff2-4f6a-944c-cf8c080c5174",
   "metadata": {},
   "outputs": [],
   "source": [
    "with open(f'{MODEL_DIR}/art_emb_idx_inv.json', 'r') as fh:\n",
    "    art_emb_idx_to_id = json.load(fh)\n",
    "    art_emb_idx_to_id = {int(k): v for k, v in art_emb_idx_to_id.items()}\n",
    "    art_emb_id_to_idx = {v: k for k, v in art_emb_idx_to_id.items()}"
   ]
  },
  {
   "cell_type": "code",
   "execution_count": 7,
   "id": "2ed0fb99-e514-4c06-9211-4fdac6206a4b",
   "metadata": {},
   "outputs": [],
   "source": [
    "with open(f'{MODEL_DIR}/lab_emb_idx_inv.json', 'r') as fh:\n",
    "    lab_emb_idx_to_id = json.load(fh)\n",
    "    lab_emb_idx_to_id = {int(k): v for k, v in lab_emb_idx_to_id.items()}\n",
    "    lab_emb_id_to_idx = {v: k for k, v in lab_emb_idx_to_id.items()}"
   ]
  },
  {
   "cell_type": "code",
   "execution_count": 8,
   "id": "e4d880f6-7a7c-4e02-a8de-75411ba4e22f",
   "metadata": {},
   "outputs": [],
   "source": [
    "lab_df = pd.read_csv(LABEL_FILE, usecols=['id', 'name'])\n",
    "lab_df['name'] = lab_df['name'].str.lower()\n",
    "lab_df = lab_df.set_index(['id'])"
   ]
  },
  {
   "cell_type": "code",
   "execution_count": 9,
   "id": "78ac3840-5a2b-48e2-addf-1125d7979f65",
   "metadata": {},
   "outputs": [],
   "source": [
    "assert lab_emb.shape[0] == len(lab_emb_idx_to_id), 'lab dict isnt valid'"
   ]
  },
  {
   "cell_type": "code",
   "execution_count": 10,
   "id": "b55828f9-df6e-4aba-977f-d83e55277d6e",
   "metadata": {},
   "outputs": [],
   "source": [
    "art_df = pd.read_csv(ARTIST_FILE, usecols=['artist_id', 'artist_name'])\n",
    "art_df['artist_name'] = art_df['artist_name'].str.lower()\n",
    "art_df = (\n",
    "    art_df\n",
    "    .groupby(['artist_id', 'artist_name'])\n",
    "    .size()\n",
    "    .rename('n')\n",
    "    .reset_index()\n",
    "    .set_index(['artist_id'])\n",
    ")"
   ]
  },
  {
   "cell_type": "code",
   "execution_count": 11,
   "id": "ad53efa0-4c0b-4a21-aa94-ef158632f14c",
   "metadata": {},
   "outputs": [],
   "source": [
    "assert art_emb.shape[0] == len(art_emb_idx_to_id), 'art dict isnt valid'"
   ]
  },
  {
   "cell_type": "markdown",
   "id": "b9fec0d9-e7e8-4d33-9fb1-1a16906b111b",
   "metadata": {},
   "source": [
    "## Query Similar Artist"
   ]
  },
  {
   "cell_type": "code",
   "execution_count": 12,
   "id": "46991af8-3c98-4aa1-a7cc-4e50e988bce8",
   "metadata": {},
   "outputs": [],
   "source": [
    "ARTIST_NAME = 'Seb Wildblood'\n",
    "TOPN = 10"
   ]
  },
  {
   "cell_type": "code",
   "execution_count": 13,
   "id": "e284c739-eb80-4cde-906b-d37ec205fd64",
   "metadata": {},
   "outputs": [],
   "source": [
    "row = (\n",
    "    art_df\n",
    "    .loc[lambda df: df['artist_name'] == ARTIST_NAME.lower()]\n",
    ")"
   ]
  },
  {
   "cell_type": "code",
   "execution_count": 14,
   "id": "3f8f50ac-8750-4a4c-b2c1-ebc99c258d4f",
   "metadata": {},
   "outputs": [],
   "source": [
    "if len(row) == 0:\n",
    "    raise RuntimeError(f'Artist {ARTIST_NAME} was not found')\n",
    "else:\n",
    "    artist_id = row.index.tolist()[0]"
   ]
  },
  {
   "cell_type": "code",
   "execution_count": 15,
   "id": "1e081e69-76bd-45ec-acaa-02c555f6d407",
   "metadata": {},
   "outputs": [],
   "source": [
    "art_emb_idx = art_emb_id_to_idx[artist_id]"
   ]
  },
  {
   "cell_type": "code",
   "execution_count": 16,
   "id": "50ba6de8-4143-46d7-98c4-af0ed7579a63",
   "metadata": {},
   "outputs": [],
   "source": [
    "norms = np.linalg.norm(art_emb - art_emb[art_emb_idx:art_emb_idx+1], axis=1)\n",
    "sim_art_idxs = np.argsort(norms)"
   ]
  },
  {
   "cell_type": "code",
   "execution_count": 17,
   "id": "b543deee-6939-4c86-b531-e6f9f7442820",
   "metadata": {},
   "outputs": [
    {
     "data": {
      "text/html": [
       "<div>\n",
       "<style scoped>\n",
       "    .dataframe tbody tr th:only-of-type {\n",
       "        vertical-align: middle;\n",
       "    }\n",
       "\n",
       "    .dataframe tbody tr th {\n",
       "        vertical-align: top;\n",
       "    }\n",
       "\n",
       "    .dataframe thead th {\n",
       "        text-align: right;\n",
       "    }\n",
       "</style>\n",
       "<table border=\"1\" class=\"dataframe\">\n",
       "  <thead>\n",
       "    <tr style=\"text-align: right;\">\n",
       "      <th></th>\n",
       "      <th>artist_name</th>\n",
       "      <th>n</th>\n",
       "    </tr>\n",
       "    <tr>\n",
       "      <th>artist_id</th>\n",
       "      <th></th>\n",
       "      <th></th>\n",
       "    </tr>\n",
       "  </thead>\n",
       "  <tbody>\n",
       "    <tr>\n",
       "      <th>3038043</th>\n",
       "      <td>seb wildblood</td>\n",
       "      <td>32</td>\n",
       "    </tr>\n",
       "    <tr>\n",
       "      <th>5646528</th>\n",
       "      <td>pacific coliseum</td>\n",
       "      <td>12</td>\n",
       "    </tr>\n",
       "    <tr>\n",
       "      <th>293606</th>\n",
       "      <td>hobie</td>\n",
       "      <td>2</td>\n",
       "    </tr>\n",
       "    <tr>\n",
       "      <th>3038042</th>\n",
       "      <td>apes (5)</td>\n",
       "      <td>5</td>\n",
       "    </tr>\n",
       "    <tr>\n",
       "      <th>621686</th>\n",
       "      <td>dan tuf</td>\n",
       "      <td>7</td>\n",
       "    </tr>\n",
       "    <tr>\n",
       "      <th>5303435</th>\n",
       "      <td>dj heure</td>\n",
       "      <td>9</td>\n",
       "    </tr>\n",
       "    <tr>\n",
       "      <th>3317911</th>\n",
       "      <td>tippy toes</td>\n",
       "      <td>3</td>\n",
       "    </tr>\n",
       "    <tr>\n",
       "      <th>1620394</th>\n",
       "      <td>name in lights</td>\n",
       "      <td>7</td>\n",
       "    </tr>\n",
       "    <tr>\n",
       "      <th>422521</th>\n",
       "      <td>d.b. hazard</td>\n",
       "      <td>4</td>\n",
       "    </tr>\n",
       "    <tr>\n",
       "      <th>6321839</th>\n",
       "      <td>bernhard weiss (3)</td>\n",
       "      <td>2</td>\n",
       "    </tr>\n",
       "  </tbody>\n",
       "</table>\n",
       "</div>"
      ],
      "text/plain": [
       "                  artist_name   n\n",
       "artist_id                        \n",
       "3038043         seb wildblood  32\n",
       "5646528      pacific coliseum  12\n",
       "293606                  hobie   2\n",
       "3038042              apes (5)   5\n",
       "621686                dan tuf   7\n",
       "5303435              dj heure   9\n",
       "3317911            tippy toes   3\n",
       "1620394        name in lights   7\n",
       "422521            d.b. hazard   4\n",
       "6321839    bernhard weiss (3)   2"
      ]
     },
     "execution_count": 17,
     "metadata": {},
     "output_type": "execute_result"
    }
   ],
   "source": [
    "art_df.loc[[art_emb_idx_to_id[i] for i in sim_art_idxs[:TOPN]]]"
   ]
  },
  {
   "cell_type": "markdown",
   "id": "850f76b7-4d8b-47ff-8e5a-99b665106b58",
   "metadata": {},
   "source": [
    "## Query Similar Artist"
   ]
  },
  {
   "cell_type": "code",
   "execution_count": 18,
   "id": "9b8c4962-8b1c-45f4-9ce2-625d7f353542",
   "metadata": {},
   "outputs": [],
   "source": [
    "LABEL_NAME = 'All My Thoughts'\n",
    "TOPN = 10"
   ]
  },
  {
   "cell_type": "code",
   "execution_count": 19,
   "id": "9ec1ebae-b218-4251-b11b-8aca304785de",
   "metadata": {},
   "outputs": [],
   "source": [
    "row = (\n",
    "    lab_df\n",
    "    .loc[lambda df: df['name'] == LABEL_NAME.lower()]\n",
    ")"
   ]
  },
  {
   "cell_type": "code",
   "execution_count": 20,
   "id": "cd7ef3c0-2c1f-4d76-9c1e-fac160cff970",
   "metadata": {},
   "outputs": [],
   "source": [
    "if len(row) == 0:\n",
    "    raise RuntimeError(f'Label {LABEL_NAME} was not found')\n",
    "else:\n",
    "    lab_id = row.index.tolist()[0]"
   ]
  },
  {
   "cell_type": "code",
   "execution_count": 21,
   "id": "d8945c62-2f2d-4e9d-b550-6fecc79c9031",
   "metadata": {},
   "outputs": [],
   "source": [
    "lab_emb_idx = lab_emb_id_to_idx[lab_id]"
   ]
  },
  {
   "cell_type": "code",
   "execution_count": 22,
   "id": "7ccf18c9-d8f1-43a8-bc28-7b2689672b2d",
   "metadata": {},
   "outputs": [],
   "source": [
    "norms = np.linalg.norm(lab_emb - lab_emb[lab_emb_idx:lab_emb_idx+1], axis=1)\n",
    "sim_lab_idxs = np.argsort(norms)"
   ]
  },
  {
   "cell_type": "code",
   "execution_count": 23,
   "id": "43a94441-cee2-4892-a724-5e498072a459",
   "metadata": {},
   "outputs": [
    {
     "data": {
      "text/html": [
       "<div>\n",
       "<style scoped>\n",
       "    .dataframe tbody tr th:only-of-type {\n",
       "        vertical-align: middle;\n",
       "    }\n",
       "\n",
       "    .dataframe tbody tr th {\n",
       "        vertical-align: top;\n",
       "    }\n",
       "\n",
       "    .dataframe thead th {\n",
       "        text-align: right;\n",
       "    }\n",
       "</style>\n",
       "<table border=\"1\" class=\"dataframe\">\n",
       "  <thead>\n",
       "    <tr style=\"text-align: right;\">\n",
       "      <th></th>\n",
       "      <th>name</th>\n",
       "    </tr>\n",
       "    <tr>\n",
       "      <th>id</th>\n",
       "      <th></th>\n",
       "    </tr>\n",
       "  </thead>\n",
       "  <tbody>\n",
       "    <tr>\n",
       "      <th>1172610</th>\n",
       "      <td>all my thoughts</td>\n",
       "    </tr>\n",
       "    <tr>\n",
       "      <th>1064006</th>\n",
       "      <td>sw (2)</td>\n",
       "    </tr>\n",
       "    <tr>\n",
       "      <th>1509448</th>\n",
       "      <td>not on label (seb wildblood self-released)</td>\n",
       "    </tr>\n",
       "    <tr>\n",
       "      <th>657167</th>\n",
       "      <td>amber entertainment</td>\n",
       "    </tr>\n",
       "    <tr>\n",
       "      <th>834665</th>\n",
       "      <td>knife ritual</td>\n",
       "    </tr>\n",
       "    <tr>\n",
       "      <th>713498</th>\n",
       "      <td>division two records</td>\n",
       "    </tr>\n",
       "    <tr>\n",
       "      <th>206716</th>\n",
       "      <td>not on label (nightlife unlimited)</td>\n",
       "    </tr>\n",
       "    <tr>\n",
       "      <th>496574</th>\n",
       "      <td>iff wreckords detroit</td>\n",
       "    </tr>\n",
       "    <tr>\n",
       "      <th>88082</th>\n",
       "      <td>pump-kin records (2)</td>\n",
       "    </tr>\n",
       "    <tr>\n",
       "      <th>69804</th>\n",
       "      <td>dope records (2)</td>\n",
       "    </tr>\n",
       "  </tbody>\n",
       "</table>\n",
       "</div>"
      ],
      "text/plain": [
       "                                               name\n",
       "id                                                 \n",
       "1172610                             all my thoughts\n",
       "1064006                                      sw (2)\n",
       "1509448  not on label (seb wildblood self-released)\n",
       "657167                          amber entertainment\n",
       "834665                                 knife ritual\n",
       "713498                         division two records\n",
       "206716           not on label (nightlife unlimited)\n",
       "496574                        iff wreckords detroit\n",
       "88082                          pump-kin records (2)\n",
       "69804                              dope records (2)"
      ]
     },
     "execution_count": 23,
     "metadata": {},
     "output_type": "execute_result"
    }
   ],
   "source": [
    "lab_df.loc[[lab_emb_idx_to_id[i] for i in sim_lab_idxs[:TOPN]]]"
   ]
  },
  {
   "cell_type": "code",
   "execution_count": 24,
   "id": "72ebe0cf-f516-4d1c-ac77-8a66d5e48405",
   "metadata": {},
   "outputs": [
    {
     "data": {
      "text/plain": [
       "<Axes: >"
      ]
     },
     "execution_count": 24,
     "metadata": {},
     "output_type": "execute_result"
    },
    {
     "data": {
      "image/png": "[encoded data removed]",
      "text/plain": [
       "<Figure size 1000x400 with 2 Axes>"
      ]
     },
     "metadata": {},
     "output_type": "display_data"
    }
   ],
   "source": [
    "fig, axs = plt.subplots(1, 2, figsize=(10, 4))\n",
    "\n",
    "pd.Series(np.linalg.norm(lab_emb, axis=1), name='labels').hist(bins=100, ax=axs[0])\n",
    "pd.Series(np.linalg.norm(art_emb, axis=1), name='artist').hist(bins=100, ax=axs[1])"
   ]
  },
  {
   "cell_type": "code",
   "execution_count": null,
   "id": "3725773d-e702-4c51-ab09-1ec3aff3845c",
   "metadata": {},
   "outputs": [],
   "source": []
  }
 ],
 "metadata": {
  "kernelspec": {
   "display_name": "Python 3 (ipykernel)",
   "language": "python",
   "name": "python3"
  },
  "language_info": {
   "codemirror_mode": {
    "name": "ipython",
    "version": 3
   },
   "file_extension": ".py",
   "mimetype": "text/x-python",
   "name": "python",
   "nbconvert_exporter": "python",
   "pygments_lexer": "ipython3",
   "version": "3.9.11"
  }
 },
 "nbformat": 4,
 "nbformat_minor": 5
}
